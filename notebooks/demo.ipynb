{
 "cells": [
  {
   "attachments": {},
   "cell_type": "markdown",
   "metadata": {},
   "source": [
    "# Pandas AI demo\n",
    "\n",
    "## References - \n",
    "\n",
    "1. [Pypi PandasAI](https://pypi.org/project/pandasai/)\n",
    "2. [PandasAI github/docs](https://github.com/gventuri/pandas-ai)\n",
    "\n",
    "## Setup your Openai API key -\n",
    "\n",
    "Create a .env file in the root of the project and paste the following - \n",
    "\n",
    "```ini\n",
    "OPENAI_API_KEY=\"YOUR_API_KEY\"\n",
    "```\n",
    "\n",
    "> NOTE: replace \"YOUR_API_KEY\" with your key which you can obtain from - [OpenAI Keys](https://platform.openai.com/account/api-keys)\n",
    "\n",
    "> Refer the following screenshot - \n",
    "![screenshot](../images/ss-openai-api-key.png)\n",
    "\n",
    "### IMPORTANT: PandasAI can work with python 3.9 onwards"
   ]
  },
  {
   "cell_type": "code",
   "execution_count": null,
   "metadata": {
    "vscode": {
     "languageId": "plaintext"
    }
   },
   "outputs": [],
   "source": []
  },
  {
   "cell_type": "code",
   "execution_count": null,
   "metadata": {
    "vscode": {
     "languageId": "plaintext"
    }
   },
   "outputs": [],
   "source": [
    "import os\n",
    "from pathlib import Path\n",
    "from dotenv import load_dotenv\n",
    "load_dotenv()"
   ]
  }
 ],
 "metadata": {
  "language_info": {
   "name": "python"
  },
  "orig_nbformat": 4
 },
 "nbformat": 4,
 "nbformat_minor": 2
}
