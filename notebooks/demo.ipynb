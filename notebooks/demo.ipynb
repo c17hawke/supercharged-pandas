{
 "cells": [
  {
   "attachments": {},
   "cell_type": "markdown",
   "metadata": {},
   "source": [
    "# Pandas AI demo\n",
    "\n",
    "## References - \n",
    "\n",
    "1. [Pypi PandasAI](https://pypi.org/project/pandasai/)\n",
    "2. [PandasAI github/docs](https://github.com/gventuri/pandas-ai)\n",
    "\n",
    "## Setup your Openai API key -\n",
    "\n",
    "Create a `.env` file in the root of the project from the copy of `.env.template`.\n",
    "And replace the OPENAI_API_KEY with your Openai API key\n",
    "\n",
    "> NOTE: replace \"YOUR_API_KEY\" with your key which you can obtain from - [OpenAI Keys](https://platform.openai.com/account/api-keys)\n",
    "\n",
    "> Refer the following screenshot - \n",
    "![screenshot](../images/ss-openai-api-key.png)\n",
    "\n",
    "### IMPORTANT: PandasAI can work with python 3.9 onwards"
   ]
  },
  {
   "cell_type": "code",
   "execution_count": null,
   "metadata": {},
   "outputs": [],
   "source": [
    "import os\n",
    "from pathlib import Path\n",
    "from dotenv import load_dotenv\n",
    "import pandas as pd\n",
    "load_dotenv()"
   ]
  }
 ],
 "metadata": {
  "kernelspec": {
   "display_name": "Python 3 (ipykernel)",
   "language": "python",
   "name": "python3"
  },
  "language_info": {
   "codemirror_mode": {
    "name": "ipython",
    "version": 3
   },
   "file_extension": ".py",
   "mimetype": "text/x-python",
   "name": "python",
   "nbconvert_exporter": "python",
   "pygments_lexer": "ipython3",
   "version": "3.10.9"
  }
 },
 "nbformat": 4,
 "nbformat_minor": 2
}
